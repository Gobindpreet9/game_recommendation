{
 "cells": [
  {
   "cell_type": "markdown",
   "metadata": {},
   "source": [
    "# Steam Games Dataset Analysis\n",
    "\n",
    "This notebook analyzes the Steam Games dataset from Kaggle, which contains information about various games available on the Steam platform.\n",
    "\n",
    "## Setup and Data Loading"
   ]
  },
  {
   "cell_type": "code",
   "execution_count": 4,
   "metadata": {},
   "outputs": [
    {
     "name": "stdout",
     "output_type": "stream",
     "text": [
      "All libraries successfully imported and configured!\n"
     ]
    }
   ],
   "source": [
    "# Import necessary libraries\n",
    "import pandas as pd\n",
    "import numpy as np\n",
    "import matplotlib.pyplot as plt\n",
    "import seaborn as sns\n",
    "from datetime import datetime\n",
    "import kagglehub\n",
    "import os\n",
    "from pathlib import Path\n",
    "\n",
    "# Set style for better visualizations\n",
    "sns.set_style(\"whitegrid\")  # Set seaborn style\n",
    "plt.style.use('seaborn-v0_8')\n",
    "sns.set_palette('husl')\n",
    "\n",
    "# Display settings\n",
    "pd.set_option('display.max_columns', None)\n",
    "pd.set_option('display.max_rows', 100)\n",
    "\n",
    "print(\"All libraries successfully imported and configured!\")"
   ]
  },
  {
   "cell_type": "code",
   "execution_count": 8,
   "metadata": {},
   "outputs": [
    {
     "name": "stdout",
     "output_type": "stream",
     "text": [
      "/home/jupyter/notebooks\n",
      "Downloading dataset...\n",
      "Dataset saved to ../data/steam_games.csv\n",
      "\n",
      "Dataset Shape: (87806, 46)\n",
      "\n",
      "Dataset Info:\n",
      "<class 'pandas.core.frame.DataFrame'>\n",
      "RangeIndex: 87806 entries, 0 to 87805\n",
      "Data columns (total 46 columns):\n",
      " #   Column                    Non-Null Count  Dtype  \n",
      "---  ------                    --------------  -----  \n",
      " 0   AppID                     87806 non-null  int64  \n",
      " 1   name                      87803 non-null  object \n",
      " 2   release_date              87806 non-null  object \n",
      " 3   required_age              87806 non-null  int64  \n",
      " 4   price                     87806 non-null  float64\n",
      " 5   dlc_count                 87806 non-null  int64  \n",
      " 6   detailed_description      83656 non-null  object \n",
      " 7   about_the_game            83634 non-null  object \n",
      " 8   short_description         83713 non-null  object \n",
      " 9   reviews                   10314 non-null  object \n",
      " 10  header_image              87806 non-null  object \n",
      " 11  website                   39906 non-null  object \n",
      " 12  support_url               42224 non-null  object \n",
      " 13  support_email             73123 non-null  object \n",
      " 14  windows                   87806 non-null  bool   \n",
      " 15  mac                       87806 non-null  bool   \n",
      " 16  linux                     87806 non-null  bool   \n",
      " 17  metacritic_score          87806 non-null  int64  \n",
      " 18  metacritic_url            3981 non-null   object \n",
      " 19  achievements              87806 non-null  int64  \n",
      " 20  recommendations           87806 non-null  int64  \n",
      " 21  notes                     14217 non-null  object \n",
      " 22  supported_languages       87806 non-null  object \n",
      " 23  full_audio_languages      87806 non-null  object \n",
      " 24  packages                  87806 non-null  object \n",
      " 25  developers                87806 non-null  object \n",
      " 26  publishers                87806 non-null  object \n",
      " 27  categories                87806 non-null  object \n",
      " 28  genres                    87806 non-null  object \n",
      " 29  screenshots               87806 non-null  object \n",
      " 30  movies                    87806 non-null  object \n",
      " 31  user_score                87806 non-null  int64  \n",
      " 32  score_rank                41 non-null     float64\n",
      " 33  positive                  87806 non-null  int64  \n",
      " 34  negative                  87806 non-null  int64  \n",
      " 35  estimated_owners          87806 non-null  object \n",
      " 36  average_playtime_forever  87806 non-null  int64  \n",
      " 37  average_playtime_2weeks   87806 non-null  int64  \n",
      " 38  median_playtime_forever   87806 non-null  int64  \n",
      " 39  median_playtime_2weeks    87806 non-null  int64  \n",
      " 40  peak_ccu                  87806 non-null  int64  \n",
      " 41  tags                      87806 non-null  object \n",
      " 42  pct_pos_total             87806 non-null  int64  \n",
      " 43  num_reviews_total         87806 non-null  int64  \n",
      " 44  pct_pos_recent            87806 non-null  int64  \n",
      " 45  num_reviews_recent        87806 non-null  int64  \n",
      "dtypes: bool(3), float64(2), int64(18), object(23)\n",
      "memory usage: 29.1+ MB\n"
     ]
    }
   ],
   "source": [
    "# Define the path to save the dataset\n",
    "data_dir = Path('../data')\n",
    "dataset_path = data_dir / 'steam_games.csv'\n",
    "\n",
    "# Check if the dataset already exists\n",
    "if not dataset_path.exists():\n",
    "    print(os.getcwd())\n",
    "    print(\"Downloading dataset...\")\n",
    "    # Download the dataset\n",
    "    kaggle_path = kagglehub.dataset_download(\"artermiloff/steam-games-dataset\")\n",
    "    # The downloaded path is a directory, find the CSV file\n",
    "    csv_file = list(Path(kaggle_path).glob('*.csv'))[0]\n",
    "    # Copy the file to our data directory\n",
    "    import shutil\n",
    "    shutil.copy2(csv_file, dataset_path)\n",
    "    print(f\"Dataset saved to {dataset_path}\")\n",
    "else:\n",
    "    print(\"Dataset already exists, loading from local file...\")\n",
    "\n",
    "# Load the dataset\n",
    "df = pd.read_csv(dataset_path)\n",
    "\n",
    "# Display basic information about the dataset\n",
    "print(\"\\nDataset Shape:\", df.shape)\n",
    "print(\"\\nDataset Info:\")\n",
    "df.info()"
   ]
  },
  {
   "cell_type": "markdown",
   "metadata": {},
   "source": [
    "## Data Cleaning and Preprocessing"
   ]
  },
  {
   "cell_type": "code",
   "execution_count": null,
   "metadata": {},
   "outputs": [],
   "source": [
    "# Check for missing values\n",
    "missing_values = df.isnull().sum()\n",
    "print(\"Missing values in each column:\")\n",
    "print(missing_values[missing_values > 0])"
   ]
  },
  {
   "cell_type": "code",
   "execution_count": null,
   "metadata": {},
   "outputs": [],
   "source": [
    "# Clean price data\n",
    "def clean_price(price):\n",
    "    if pd.isna(price):\n",
    "        return np.nan\n",
    "    try:\n",
    "        # Remove currency symbol and convert to float\n",
    "        return float(str(price).replace('$', '').strip())\n",
    "    except:\n",
    "        return np.nan\n",
    "\n",
    "df['clean_price'] = df['price'].apply(clean_price)\n",
    "\n",
    "# Convert release date to datetime\n",
    "df['release_date'] = pd.to_datetime(df['release_date'], errors='coerce')\n",
    "\n",
    "# Extract year from release date\n",
    "df['release_year'] = df['release_date'].dt.year"
   ]
  },
  {
   "cell_type": "markdown",
   "metadata": {},
   "source": [
    "## Exploratory Data Analysis (EDA)"
   ]
  },
  {
   "cell_type": "code",
   "execution_count": null,
   "metadata": {},
   "outputs": [],
   "source": [
    "# Basic statistics of numerical columns\n",
    "print(\"Basic statistics of numerical columns:\")\n",
    "df.describe()"
   ]
  },
  {
   "cell_type": "code",
   "execution_count": null,
   "metadata": {},
   "outputs": [],
   "source": [
    "# Price Distribution Analysis\n",
    "plt.figure(figsize=(12, 6))\n",
    "sns.histplot(data=df, x='clean_price', bins=50)\n",
    "plt.title('Distribution of Game Prices')\n",
    "plt.xlabel('Price ($)')\n",
    "plt.ylabel('Count')\n",
    "plt.show()\n",
    "\n",
    "# Remove outliers for better visualization\n",
    "plt.figure(figsize=(12, 6))\n",
    "sns.boxplot(x=df['clean_price'].clip(0, 100))\n",
    "plt.title('Box Plot of Game Prices (Clipped at $100)')\n",
    "plt.xlabel('Price ($)')\n",
    "plt.show()"
   ]
  },
  {
   "cell_type": "code",
   "execution_count": null,
   "metadata": {},
   "outputs": [],
   "source": [
    "# Games released per year\n",
    "yearly_releases = df['release_year'].value_counts().sort_index()\n",
    "\n",
    "plt.figure(figsize=(15, 6))\n",
    "yearly_releases.plot(kind='bar')\n",
    "plt.title('Number of Games Released per Year')\n",
    "plt.xlabel('Year')\n",
    "plt.ylabel('Number of Games')\n",
    "plt.xticks(rotation=45)\n",
    "plt.show()"
   ]
  },
  {
   "cell_type": "code",
   "execution_count": null,
   "metadata": {},
   "outputs": [],
   "source": [
    "# Top 10 genres\n",
    "def extract_genres(genre_str):\n",
    "    if pd.isna(genre_str):\n",
    "        return []\n",
    "    return [g.strip() for g in str(genre_str).split(',')]\n",
    "\n",
    "all_genres = [genre for genres in df['genres'].apply(extract_genres) for genre in genres]\n",
    "genre_counts = pd.Series(all_genres).value_counts().head(10)\n",
    "\n",
    "plt.figure(figsize=(12, 6))\n",
    "sns.barplot(x=genre_counts.values, y=genre_counts.index)\n",
    "plt.title('Top 10 Most Common Genres')\n",
    "plt.xlabel('Number of Games')\n",
    "plt.show()"
   ]
  },
  {
   "cell_type": "code",
   "execution_count": null,
   "metadata": {},
   "outputs": [],
   "source": [
    "# Average price by genre\n",
    "genre_prices = []\n",
    "for genre in genre_counts.index:\n",
    "    mask = df['genres'].str.contains(genre, na=False)\n",
    "    avg_price = df.loc[mask, 'clean_price'].mean()\n",
    "    genre_prices.append({'Genre': genre, 'Average Price': avg_price})\n",
    "\n",
    "genre_price_df = pd.DataFrame(genre_prices)\n",
    "plt.figure(figsize=(12, 6))\n",
    "sns.barplot(data=genre_price_df, x='Average Price', y='Genre')\n",
    "plt.title('Average Price by Genre')\n",
    "plt.xlabel('Average Price ($)')\n",
    "plt.show()"
   ]
  },
  {
   "cell_type": "markdown",
   "metadata": {},
   "source": [
    "## Developer and Publisher Analysis"
   ]
  },
  {
   "cell_type": "code",
   "execution_count": null,
   "metadata": {},
   "outputs": [],
   "source": [
    "# Top 10 developers by number of games\n",
    "top_developers = df['developer'].value_counts().head(10)\n",
    "\n",
    "plt.figure(figsize=(12, 6))\n",
    "sns.barplot(x=top_developers.values, y=top_developers.index)\n",
    "plt.title('Top 10 Developers by Number of Games')\n",
    "plt.xlabel('Number of Games')\n",
    "plt.show()"
   ]
  },
  {
   "cell_type": "code",
   "execution_count": null,
   "metadata": {},
   "outputs": [],
   "source": [
    "# Average ratings analysis\n",
    "plt.figure(figsize=(12, 6))\n",
    "sns.histplot(data=df, x='rating', bins=50)\n",
    "plt.title('Distribution of Game Ratings')\n",
    "plt.xlabel('Rating')\n",
    "plt.ylabel('Count')\n",
    "plt.show()\n",
    "\n",
    "# Top 10 highest rated games (with minimum number of reviews)\n",
    "min_reviews = 100  # Set minimum number of reviews threshold\n",
    "top_rated = df[df['reviews_count'] >= min_reviews].nlargest(10, 'rating')\n",
    "print(f\"\\nTop 10 Highest Rated Games (with at least {min_reviews} reviews):\")\n",
    "print(top_rated[['name', 'rating', 'reviews_count', 'developer']])"
   ]
  },
  {
   "cell_type": "markdown",
   "metadata": {},
   "source": [
    "## Price Analysis Over Time"
   ]
  },
  {
   "cell_type": "code",
   "execution_count": null,
   "metadata": {},
   "outputs": [],
   "source": [
    "# Average price by year\n",
    "yearly_avg_price = df.groupby('release_year')['clean_price'].mean()\n",
    "\n",
    "plt.figure(figsize=(15, 6))\n",
    "yearly_avg_price.plot(kind='line', marker='o')\n",
    "plt.title('Average Game Price by Release Year')\n",
    "plt.xlabel('Year')\n",
    "plt.ylabel('Average Price ($)')\n",
    "plt.grid(True)\n",
    "plt.show()"
   ]
  },
  {
   "cell_type": "markdown",
   "metadata": {},
   "source": [
    "## Correlation Analysis"
   ]
  },
  {
   "cell_type": "code",
   "execution_count": null,
   "metadata": {},
   "outputs": [],
   "source": [
    "# Create correlation matrix\n",
    "numeric_columns = ['clean_price', 'rating', 'reviews_count', 'release_year']\n",
    "correlation_matrix = df[numeric_columns].corr()\n",
    "\n",
    "plt.figure(figsize=(10, 8))\n",
    "sns.heatmap(correlation_matrix, annot=True, cmap='coolwarm', center=0)\n",
    "plt.title('Correlation Matrix of Numeric Variables')\n",
    "plt.show()"
   ]
  },
  {
   "cell_type": "markdown",
   "metadata": {},
   "source": [
    "## Key Findings and Insights\n",
    "\n",
    "1. Price Distribution:\n",
    "   - Analyze the distribution of game prices\n",
    "   - Identify price ranges and common price points\n",
    "\n",
    "2. Release Trends:\n",
    "   - Observe the trend in game releases over years\n",
    "   - Identify peak periods and any patterns\n",
    "\n",
    "3. Genre Analysis:\n",
    "   - Most popular genres\n",
    "   - Price variations across genres\n",
    "\n",
    "4. Developer Analysis:\n",
    "   - Most prolific developers\n",
    "   - Relationship between developers and ratings\n",
    "\n",
    "5. Rating Analysis:\n",
    "   - Distribution of ratings\n",
    "   - Correlation between ratings and other factors\n",
    "\n",
    "6. Price Trends:\n",
    "   - How prices have evolved over time\n",
    "   - Price variations by genre and developer\n",
    "\n",
    "Add your observations and insights based on the analysis above."
   ]
  }
 ],
 "metadata": {
  "kernelspec": {
   "display_name": "Python 3 (ipykernel)",
   "language": "python",
   "name": "python3"
  },
  "language_info": {
   "codemirror_mode": {
    "name": "ipython",
    "version": 3
   },
   "file_extension": ".py",
   "mimetype": "text/x-python",
   "name": "python",
   "nbconvert_exporter": "python",
   "pygments_lexer": "ipython3",
   "version": "3.10.16"
  }
 },
 "nbformat": 4,
 "nbformat_minor": 4
}
